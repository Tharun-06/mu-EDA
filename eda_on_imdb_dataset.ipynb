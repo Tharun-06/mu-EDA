{
 "cells": [
  {
   "cell_type": "code",
   "execution_count": 1,
   "id": "e39dd238-134e-47af-8e2d-13d2ce5758cd",
   "metadata": {},
   "outputs": [],
   "source": [
    "import pandas as pd\n",
    "import matplotlib.pyplot as plt\n",
    "import numpy as np\n",
    "import seaborn as sns"
   ]
  },
  {
   "cell_type": "code",
   "execution_count": 4,
   "id": "e76b8dad-2ba7-483c-8aa1-d1f92ec13188",
   "metadata": {},
   "outputs": [
    {
     "data": {
      "text/html": [
       "<div>\n",
       "<style scoped>\n",
       "    .dataframe tbody tr th:only-of-type {\n",
       "        vertical-align: middle;\n",
       "    }\n",
       "\n",
       "    .dataframe tbody tr th {\n",
       "        vertical-align: top;\n",
       "    }\n",
       "\n",
       "    .dataframe thead th {\n",
       "        text-align: right;\n",
       "    }\n",
       "</style>\n",
       "<table border=\"1\" class=\"dataframe\">\n",
       "  <thead>\n",
       "    <tr style=\"text-align: right;\">\n",
       "      <th></th>\n",
       "      <th>ID</th>\n",
       "      <th>Poster_Link</th>\n",
       "      <th>Series_Title</th>\n",
       "      <th>Released_Year</th>\n",
       "      <th>Certificate</th>\n",
       "      <th>Runtime</th>\n",
       "      <th>Genre</th>\n",
       "      <th>IMDB_Rating</th>\n",
       "      <th>Overview</th>\n",
       "      <th>Meta_score</th>\n",
       "      <th>Director</th>\n",
       "      <th>Star1</th>\n",
       "      <th>Star2</th>\n",
       "      <th>Star3</th>\n",
       "      <th>Star4</th>\n",
       "      <th>No_of_Votes</th>\n",
       "      <th>Gross</th>\n",
       "    </tr>\n",
       "  </thead>\n",
       "  <tbody>\n",
       "    <tr>\n",
       "      <th>0</th>\n",
       "      <td>0</td>\n",
       "      <td>https://m.media-amazon.com/images/M/MV5BNmM4YT...</td>\n",
       "      <td>Hauru no ugoku shiro</td>\n",
       "      <td>2004</td>\n",
       "      <td>U</td>\n",
       "      <td>119 min</td>\n",
       "      <td>Animation, Adventure, Family</td>\n",
       "      <td>8.2</td>\n",
       "      <td>When an unconfident young woman is cursed with...</td>\n",
       "      <td>80.0</td>\n",
       "      <td>Hayao Miyazaki</td>\n",
       "      <td>Chieko Baishô</td>\n",
       "      <td>Takuya Kimura</td>\n",
       "      <td>Tatsuya Gashûin</td>\n",
       "      <td>Akihiro Miwa</td>\n",
       "      <td>333915</td>\n",
       "      <td>4,711,096</td>\n",
       "    </tr>\n",
       "    <tr>\n",
       "      <th>1</th>\n",
       "      <td>1</td>\n",
       "      <td>https://m.media-amazon.com/images/M/MV5BYzE5Mj...</td>\n",
       "      <td>Deadpool</td>\n",
       "      <td>2016</td>\n",
       "      <td>R</td>\n",
       "      <td>108 min</td>\n",
       "      <td>Action, Adventure, Comedy</td>\n",
       "      <td>8.0</td>\n",
       "      <td>A wisecracking mercenary gets experimented on ...</td>\n",
       "      <td>65.0</td>\n",
       "      <td>Tim Miller</td>\n",
       "      <td>Ryan Reynolds</td>\n",
       "      <td>Morena Baccarin</td>\n",
       "      <td>T.J. Miller</td>\n",
       "      <td>Ed Skrein</td>\n",
       "      <td>902669</td>\n",
       "      <td>363,070,709</td>\n",
       "    </tr>\n",
       "    <tr>\n",
       "      <th>2</th>\n",
       "      <td>2</td>\n",
       "      <td>https://m.media-amazon.com/images/M/MV5BMTEwNj...</td>\n",
       "      <td>Short Term 12</td>\n",
       "      <td>2013</td>\n",
       "      <td>R</td>\n",
       "      <td>96 min</td>\n",
       "      <td>Drama</td>\n",
       "      <td>8.0</td>\n",
       "      <td>A 20-something supervising staff member of a r...</td>\n",
       "      <td>82.0</td>\n",
       "      <td>Destin Daniel Cretton</td>\n",
       "      <td>Brie Larson</td>\n",
       "      <td>Frantz Turner</td>\n",
       "      <td>John Gallagher Jr.</td>\n",
       "      <td>Kaitlyn Dever</td>\n",
       "      <td>81770</td>\n",
       "      <td>1,010,414</td>\n",
       "    </tr>\n",
       "    <tr>\n",
       "      <th>3</th>\n",
       "      <td>3</td>\n",
       "      <td>https://m.media-amazon.com/images/M/MV5BMTMxNT...</td>\n",
       "      <td>The Dark Knight</td>\n",
       "      <td>2008</td>\n",
       "      <td>UA</td>\n",
       "      <td>152 min</td>\n",
       "      <td>Action, Crime, Drama</td>\n",
       "      <td>9.0</td>\n",
       "      <td>When the menace known as the Joker wreaks havo...</td>\n",
       "      <td>84.0</td>\n",
       "      <td>Christopher Nolan</td>\n",
       "      <td>Christian Bale</td>\n",
       "      <td>Heath Ledger</td>\n",
       "      <td>Aaron Eckhart</td>\n",
       "      <td>Michael Caine</td>\n",
       "      <td>2303232</td>\n",
       "      <td>534,858,444</td>\n",
       "    </tr>\n",
       "    <tr>\n",
       "      <th>4</th>\n",
       "      <td>4</td>\n",
       "      <td>https://m.media-amazon.com/images/M/MV5BOTM5N2...</td>\n",
       "      <td>The Breakfast Club</td>\n",
       "      <td>1985</td>\n",
       "      <td>UA</td>\n",
       "      <td>97 min</td>\n",
       "      <td>Comedy, Drama</td>\n",
       "      <td>7.8</td>\n",
       "      <td>Five high school students meet in Saturday det...</td>\n",
       "      <td>66.0</td>\n",
       "      <td>John Hughes</td>\n",
       "      <td>Emilio Estevez</td>\n",
       "      <td>Judd Nelson</td>\n",
       "      <td>Molly Ringwald</td>\n",
       "      <td>Ally Sheedy</td>\n",
       "      <td>357026</td>\n",
       "      <td>45,875,171</td>\n",
       "    </tr>\n",
       "  </tbody>\n",
       "</table>\n",
       "</div>"
      ],
      "text/plain": [
       "   ID                                        Poster_Link  \\\n",
       "0   0  https://m.media-amazon.com/images/M/MV5BNmM4YT...   \n",
       "1   1  https://m.media-amazon.com/images/M/MV5BYzE5Mj...   \n",
       "2   2  https://m.media-amazon.com/images/M/MV5BMTEwNj...   \n",
       "3   3  https://m.media-amazon.com/images/M/MV5BMTMxNT...   \n",
       "4   4  https://m.media-amazon.com/images/M/MV5BOTM5N2...   \n",
       "\n",
       "           Series_Title Released_Year Certificate  Runtime  \\\n",
       "0  Hauru no ugoku shiro          2004           U  119 min   \n",
       "1              Deadpool          2016           R  108 min   \n",
       "2         Short Term 12          2013           R   96 min   \n",
       "3       The Dark Knight          2008          UA  152 min   \n",
       "4    The Breakfast Club          1985          UA   97 min   \n",
       "\n",
       "                          Genre  IMDB_Rating  \\\n",
       "0  Animation, Adventure, Family          8.2   \n",
       "1     Action, Adventure, Comedy          8.0   \n",
       "2                         Drama          8.0   \n",
       "3          Action, Crime, Drama          9.0   \n",
       "4                 Comedy, Drama          7.8   \n",
       "\n",
       "                                            Overview  Meta_score  \\\n",
       "0  When an unconfident young woman is cursed with...        80.0   \n",
       "1  A wisecracking mercenary gets experimented on ...        65.0   \n",
       "2  A 20-something supervising staff member of a r...        82.0   \n",
       "3  When the menace known as the Joker wreaks havo...        84.0   \n",
       "4  Five high school students meet in Saturday det...        66.0   \n",
       "\n",
       "                Director           Star1            Star2               Star3  \\\n",
       "0         Hayao Miyazaki   Chieko Baishô    Takuya Kimura     Tatsuya Gashûin   \n",
       "1             Tim Miller   Ryan Reynolds  Morena Baccarin         T.J. Miller   \n",
       "2  Destin Daniel Cretton     Brie Larson    Frantz Turner  John Gallagher Jr.   \n",
       "3      Christopher Nolan  Christian Bale     Heath Ledger       Aaron Eckhart   \n",
       "4            John Hughes  Emilio Estevez      Judd Nelson      Molly Ringwald   \n",
       "\n",
       "           Star4  No_of_Votes        Gross  \n",
       "0   Akihiro Miwa       333915    4,711,096  \n",
       "1      Ed Skrein       902669  363,070,709  \n",
       "2  Kaitlyn Dever        81770    1,010,414  \n",
       "3  Michael Caine      2303232  534,858,444  \n",
       "4    Ally Sheedy       357026   45,875,171  "
      ]
     },
     "execution_count": 4,
     "metadata": {},
     "output_type": "execute_result"
    }
   ],
   "source": [
    "data=pd.read_csv(\"topimdb.csv\")\n",
    "data.head()"
   ]
  },
  {
   "cell_type": "code",
   "execution_count": 5,
   "id": "cb3a9372-c87f-4f9f-a8df-489655ad2f6b",
   "metadata": {},
   "outputs": [
    {
     "data": {
      "text/plain": [
       "(714, 17)"
      ]
     },
     "execution_count": 5,
     "metadata": {},
     "output_type": "execute_result"
    }
   ],
   "source": [
    "data.shape"
   ]
  },
  {
   "cell_type": "code",
   "execution_count": 6,
   "id": "21c00471-da7e-4056-83d6-645383e506fb",
   "metadata": {},
   "outputs": [
    {
     "data": {
      "text/plain": [
       "Index(['ID', 'Poster_Link', 'Series_Title', 'Released_Year', 'Certificate',\n",
       "       'Runtime', 'Genre', 'IMDB_Rating', 'Overview', 'Meta_score', 'Director',\n",
       "       'Star1', 'Star2', 'Star3', 'Star4', 'No_of_Votes', 'Gross'],\n",
       "      dtype='object')"
      ]
     },
     "execution_count": 6,
     "metadata": {},
     "output_type": "execute_result"
    }
   ],
   "source": [
    "data.columns\n"
   ]
  },
  {
   "cell_type": "code",
   "execution_count": 7,
   "id": "64e3e870-2e1b-478a-bd61-6d4ce1712e21",
   "metadata": {},
   "outputs": [
    {
     "data": {
      "text/plain": [
       "ID               0\n",
       "Poster_Link      0\n",
       "Series_Title     0\n",
       "Released_Year    0\n",
       "Certificate      0\n",
       "Runtime          0\n",
       "Genre            0\n",
       "IMDB_Rating      0\n",
       "Overview         0\n",
       "Meta_score       0\n",
       "Director         0\n",
       "Star1            0\n",
       "Star2            0\n",
       "Star3            0\n",
       "Star4            0\n",
       "No_of_Votes      0\n",
       "Gross            0\n",
       "dtype: int64"
      ]
     },
     "execution_count": 7,
     "metadata": {},
     "output_type": "execute_result"
    }
   ],
   "source": [
    "data.isna().sum()"
   ]
  },
  {
   "cell_type": "code",
   "execution_count": 8,
   "id": "9e37538e-ff49-415c-ad0b-2ea2f28904ca",
   "metadata": {},
   "outputs": [
    {
     "data": {
      "text/plain": [
       "ID               714\n",
       "Poster_Link      714\n",
       "Series_Title     714\n",
       "Released_Year     83\n",
       "Certificate       12\n",
       "Runtime          118\n",
       "Genre            172\n",
       "IMDB_Rating       17\n",
       "Overview         714\n",
       "Meta_score        63\n",
       "Director         402\n",
       "Star1            472\n",
       "Star2            599\n",
       "Star3            626\n",
       "Star4            671\n",
       "No_of_Votes      714\n",
       "Gross            710\n",
       "dtype: int64"
      ]
     },
     "execution_count": 8,
     "metadata": {},
     "output_type": "execute_result"
    }
   ],
   "source": [
    "data.nunique()"
   ]
  },
  {
   "cell_type": "code",
   "execution_count": 12,
   "id": "451b38d2-f952-4ee5-9a73-fa94b8e3ceab",
   "metadata": {},
   "outputs": [],
   "source": [
    "data.drop(columns=['ID','Poster_Link'],axis=1,inplace=True)"
   ]
  },
  {
   "cell_type": "code",
   "execution_count": 13,
   "id": "5267c1a2-7a2d-4fb7-8545-db99796a5bf9",
   "metadata": {},
   "outputs": [
    {
     "data": {
      "text/plain": [
       "Index(['Series_Title', 'Released_Year', 'Certificate', 'Runtime', 'Genre',\n",
       "       'IMDB_Rating', 'Overview', 'Meta_score', 'Director', 'Star1', 'Star2',\n",
       "       'Star3', 'Star4', 'No_of_Votes', 'Gross'],\n",
       "      dtype='object')"
      ]
     },
     "execution_count": 13,
     "metadata": {},
     "output_type": "execute_result"
    }
   ],
   "source": [
    "data.columns"
   ]
  },
  {
   "cell_type": "code",
   "execution_count": 14,
   "id": "94f987d7-6418-4d05-987b-124975104749",
   "metadata": {},
   "outputs": [
    {
     "data": {
      "text/plain": [
       "Series_Title      object\n",
       "Released_Year     object\n",
       "Certificate       object\n",
       "Runtime           object\n",
       "Genre             object\n",
       "IMDB_Rating      float64\n",
       "Overview          object\n",
       "Meta_score       float64\n",
       "Director          object\n",
       "Star1             object\n",
       "Star2             object\n",
       "Star3             object\n",
       "Star4             object\n",
       "No_of_Votes        int64\n",
       "Gross             object\n",
       "dtype: object"
      ]
     },
     "execution_count": 14,
     "metadata": {},
     "output_type": "execute_result"
    }
   ],
   "source": [
    "data.dtypes"
   ]
  },
  {
   "cell_type": "code",
   "execution_count": 15,
   "id": "5f18257e-ab23-4c92-b4da-28146ca93587",
   "metadata": {},
   "outputs": [
    {
     "data": {
      "text/html": [
       "<div>\n",
       "<style scoped>\n",
       "    .dataframe tbody tr th:only-of-type {\n",
       "        vertical-align: middle;\n",
       "    }\n",
       "\n",
       "    .dataframe tbody tr th {\n",
       "        vertical-align: top;\n",
       "    }\n",
       "\n",
       "    .dataframe thead th {\n",
       "        text-align: right;\n",
       "    }\n",
       "</style>\n",
       "<table border=\"1\" class=\"dataframe\">\n",
       "  <thead>\n",
       "    <tr style=\"text-align: right;\">\n",
       "      <th></th>\n",
       "      <th>IMDB_Rating</th>\n",
       "      <th>Meta_score</th>\n",
       "      <th>No_of_Votes</th>\n",
       "    </tr>\n",
       "  </thead>\n",
       "  <tbody>\n",
       "    <tr>\n",
       "      <th>count</th>\n",
       "      <td>714.000000</td>\n",
       "      <td>714.000000</td>\n",
       "      <td>7.140000e+02</td>\n",
       "    </tr>\n",
       "    <tr>\n",
       "      <th>mean</th>\n",
       "      <td>7.937115</td>\n",
       "      <td>77.158263</td>\n",
       "      <td>3.561348e+05</td>\n",
       "    </tr>\n",
       "    <tr>\n",
       "      <th>std</th>\n",
       "      <td>0.293278</td>\n",
       "      <td>12.401144</td>\n",
       "      <td>3.539011e+05</td>\n",
       "    </tr>\n",
       "    <tr>\n",
       "      <th>min</th>\n",
       "      <td>7.600000</td>\n",
       "      <td>28.000000</td>\n",
       "      <td>2.522900e+04</td>\n",
       "    </tr>\n",
       "    <tr>\n",
       "      <th>25%</th>\n",
       "      <td>7.700000</td>\n",
       "      <td>70.000000</td>\n",
       "      <td>9.600975e+04</td>\n",
       "    </tr>\n",
       "    <tr>\n",
       "      <th>50%</th>\n",
       "      <td>7.900000</td>\n",
       "      <td>78.000000</td>\n",
       "      <td>2.366025e+05</td>\n",
       "    </tr>\n",
       "    <tr>\n",
       "      <th>75%</th>\n",
       "      <td>8.100000</td>\n",
       "      <td>86.000000</td>\n",
       "      <td>5.077922e+05</td>\n",
       "    </tr>\n",
       "    <tr>\n",
       "      <th>max</th>\n",
       "      <td>9.300000</td>\n",
       "      <td>100.000000</td>\n",
       "      <td>2.343110e+06</td>\n",
       "    </tr>\n",
       "  </tbody>\n",
       "</table>\n",
       "</div>"
      ],
      "text/plain": [
       "       IMDB_Rating  Meta_score   No_of_Votes\n",
       "count   714.000000  714.000000  7.140000e+02\n",
       "mean      7.937115   77.158263  3.561348e+05\n",
       "std       0.293278   12.401144  3.539011e+05\n",
       "min       7.600000   28.000000  2.522900e+04\n",
       "25%       7.700000   70.000000  9.600975e+04\n",
       "50%       7.900000   78.000000  2.366025e+05\n",
       "75%       8.100000   86.000000  5.077922e+05\n",
       "max       9.300000  100.000000  2.343110e+06"
      ]
     },
     "execution_count": 15,
     "metadata": {},
     "output_type": "execute_result"
    }
   ],
   "source": [
    "data.describe()"
   ]
  },
  {
   "cell_type": "code",
   "execution_count": null,
   "id": "bee1d693-2413-40f5-86d3-da426d0af5df",
   "metadata": {},
   "outputs": [],
   "source": []
  }
 ],
 "metadata": {
  "kernelspec": {
   "display_name": "Python 3 (ipykernel)",
   "language": "python",
   "name": "python3"
  },
  "language_info": {
   "codemirror_mode": {
    "name": "ipython",
    "version": 3
   },
   "file_extension": ".py",
   "mimetype": "text/x-python",
   "name": "python",
   "nbconvert_exporter": "python",
   "pygments_lexer": "ipython3",
   "version": "3.13.5"
  }
 },
 "nbformat": 4,
 "nbformat_minor": 5
}
